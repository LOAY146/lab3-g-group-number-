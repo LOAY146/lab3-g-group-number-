{
 "cells": [
  {
   "cell_type": "code",
   "execution_count": 4,
   "metadata": {},
   "outputs": [
    {
     "data": {
      "text/html": [
       "<div>\n",
       "<style scoped>\n",
       "    .dataframe tbody tr th:only-of-type {\n",
       "        vertical-align: middle;\n",
       "    }\n",
       "\n",
       "    .dataframe tbody tr th {\n",
       "        vertical-align: top;\n",
       "    }\n",
       "\n",
       "    .dataframe thead th {\n",
       "        text-align: right;\n",
       "    }\n",
       "</style>\n",
       "<table border=\"1\" class=\"dataframe\">\n",
       "  <thead>\n",
       "    <tr style=\"text-align: right;\">\n",
       "      <th></th>\n",
       "      <th>RAM</th>\n",
       "      <th>Storage</th>\n",
       "      <th>Camera</th>\n",
       "      <th>Battery</th>\n",
       "      <th>Price</th>\n",
       "    </tr>\n",
       "  </thead>\n",
       "  <tbody>\n",
       "    <tr>\n",
       "      <th>0</th>\n",
       "      <td>3</td>\n",
       "      <td>32</td>\n",
       "      <td>12</td>\n",
       "      <td>3000</td>\n",
       "      <td>100</td>\n",
       "    </tr>\n",
       "    <tr>\n",
       "      <th>1</th>\n",
       "      <td>4</td>\n",
       "      <td>64</td>\n",
       "      <td>16</td>\n",
       "      <td>3500</td>\n",
       "      <td>120</td>\n",
       "    </tr>\n",
       "    <tr>\n",
       "      <th>2</th>\n",
       "      <td>4</td>\n",
       "      <td>128</td>\n",
       "      <td>48</td>\n",
       "      <td>4000</td>\n",
       "      <td>180</td>\n",
       "    </tr>\n",
       "    <tr>\n",
       "      <th>3</th>\n",
       "      <td>6</td>\n",
       "      <td>64</td>\n",
       "      <td>48</td>\n",
       "      <td>4000</td>\n",
       "      <td>220</td>\n",
       "    </tr>\n",
       "    <tr>\n",
       "      <th>4</th>\n",
       "      <td>6</td>\n",
       "      <td>128</td>\n",
       "      <td>64</td>\n",
       "      <td>4500</td>\n",
       "      <td>260</td>\n",
       "    </tr>\n",
       "  </tbody>\n",
       "</table>\n",
       "</div>"
      ],
      "text/plain": [
       "   RAM  Storage  Camera  Battery  Price\n",
       "0    3       32      12     3000    100\n",
       "1    4       64      16     3500    120\n",
       "2    4      128      48     4000    180\n",
       "3    6       64      48     4000    220\n",
       "4    6      128      64     4500    260"
      ]
     },
     "execution_count": 4,
     "metadata": {},
     "output_type": "execute_result"
    }
   ],
   "source": [
    "\n",
    "import pandas as pd\n",
    "from sklearn.linear_model import LinearRegression\n",
    "\n",
    "# قراءة البيانات\n",
    "df = pd.read_csv(\"C:/Users/ComputerWorld/Desktop/mobiles.csv\")\n",
    "df.head()\n"
   ]
  },
  {
   "cell_type": "code",
   "execution_count": 5,
   "metadata": {},
   "outputs": [],
   "source": [
    "\n",
    "# تقسيم X و y\n",
    "X = df[['RAM', 'Storage', 'Camera', 'Battery']]\n",
    "y = df['Price']"
   ]
  },
  {
   "cell_type": "code",
   "execution_count": 6,
   "metadata": {},
   "outputs": [
    {
     "data": {
      "text/plain": [
       "LinearRegression()"
      ]
     },
     "execution_count": 6,
     "metadata": {},
     "output_type": "execute_result"
    }
   ],
   "source": [
    "# تدريب النموذج\n",
    "model = LinearRegression()\n",
    "model.fit(X, y)"
   ]
  },
  {
   "cell_type": "code",
   "execution_count": 7,
   "metadata": {},
   "outputs": [
    {
     "name": "stdout",
     "output_type": "stream",
     "text": [
      "ادخل حجم الرام (RAM بالجيجا): 4\n",
      "ادخل حجم التخزين (Storage بالجيجا): 64\n",
      "ادخل دقة الكاميرا (Camera بالميجا بكسل): 80\n",
      "ادخل حجم البطارية (mAh): 5000\n"
     ]
    }
   ],
   "source": [
    "\n",
    "# إدخال المواصفات من المستخدم\n",
    "ram = int(input(\"ادخل حجم الرام (RAM بالجيجا): \"))\n",
    "storage = int(input(\"ادخل حجم التخزين (Storage بالجيجا): \"))\n",
    "camera = int(input(\"ادخل دقة الكاميرا (Camera بالميجا بكسل): \"))\n",
    "battery = int(input(\"ادخل حجم البطارية (mAh): \"))"
   ]
  },
  {
   "cell_type": "code",
   "execution_count": 8,
   "metadata": {},
   "outputs": [
    {
     "name": "stdout",
     "output_type": "stream",
     "text": [
      "\n",
      "السعر المتوقع للجوال هو: 135.40 دولار\n"
     ]
    }
   ],
   "source": [
    "\n",
    "# التوقع\n",
    "pred_price = model.predict([[ram, storage, camera, battery]])\n",
    "\n",
    "print(f\"\\nالسعر المتوقع للجوال هو: {pred_price[0]:.2f} دولار\")"
   ]
  },
  {
   "cell_type": "code",
   "execution_count": 9,
   "metadata": {},
   "outputs": [
    {
     "data": {
      "text/plain": [
       "<matplotlib.collections.PathCollection at 0x2ab4fc74cd0>"
      ]
     },
     "execution_count": 9,
     "metadata": {},
     "output_type": "execute_result"
    },
    {
     "data": {
      "image/png": "[encoded data removed]",
      "text/plain": [
       "<Figure size 432x288 with 1 Axes>"
      ]
     },
     "metadata": {
      "needs_background": "light"
     },
     "output_type": "display_data"
    }
   ],
   "source": [
    "\n",
    "get_ipython().run_line_magic('matplotlib', 'inline')\n",
    "import matplotlib.pyplot as plt\n",
    "plt.xlabel('Storage')\n",
    "plt.ylabel('price')\n",
    "plt.scatter(df.Storage,df.Price,color='red',marker='.')"
   ]
  },
  {
   "cell_type": "code",
   "execution_count": null,
   "metadata": {},
   "outputs": [],
   "source": []
  }
 ],
 "metadata": {
  "kernelspec": {
   "display_name": "Python 3",
   "language": "python",
   "name": "python3"
  },
  "language_info": {
   "codemirror_mode": {
    "name": "ipython",
    "version": 3
   },
   "file_extension": ".py",
   "mimetype": "text/x-python",
   "name": "python",
   "nbconvert_exporter": "python",
   "pygments_lexer": "ipython3",
   "version": "3.8.5"
  }
 },
 "nbformat": 4,
 "nbformat_minor": 4
}
